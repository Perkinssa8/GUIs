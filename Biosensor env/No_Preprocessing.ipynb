{
 "cells": [
  {
   "cell_type": "code",
   "execution_count": 11,
   "metadata": {},
   "outputs": [],
   "source": [
    "import pandas as pd\n",
    "import numpy as np\n",
    "from sklearn import preprocessing\n",
    "from BaselineRemoval import BaselineRemoval\n",
    "import matplotlib.pyplot as plt\n",
    "import glob\n",
    "\n",
    "l = [pd.read_csv(filename, header=None, delimiter=\"\\t\") for \n",
    "          filename in glob.glob('C:/Users/perki/OneDrive/Desktop/Machine Learning Demo/H2O2 + Resveratrol/*.txt')]\n",
    "\n",
    "data = pd.concat(l, ignore_index=True)\n",
    "data.columns = [\"positionX\", \"positionY\", \"Wavenumber\", \"Counts\"]\n",
    "data.drop(data.columns[[0, 1]], axis = 1, inplace = True)\n",
    "\n",
    "n =1300\n",
    "data_separate = pd.DataFrame(np.hstack(np.vsplit(data.values, len(data) // n)))\n",
    "data_separate.columns = data_separate.columns.map(lambda c: chr(c + ord('A')))\n",
    "\n",
    "col_to_drop = data_separate.columns[np.array([i for i in range(data_separate.shape[1]) if i != 0 and i%2 != 1])]\n",
    "\n",
    "rslt_df = data_separate.drop(col_to_drop, axis=1)\n",
    "   \n",
    "rslt_df.rename(columns = {'A':'Wavenumber'}, inplace = True)\n",
    "\n",
    "\n",
    "#output\n",
    "new_df = rslt_df['Wavenumber']\n",
    "a = new_df.to_frame(name='Wavenumber')\n",
    "\n",
    "frame = pd.concat([a,rslt_df], axis = 1)\n",
    "frame.to_excel('C:/Users/perki/OneDrive/Desktop/Machine Learning Demo/H2O2 + Resveratrol/Control - No Processing.xlsx', index=False)\n"
   ]
  }
 ],
 "metadata": {
  "kernelspec": {
   "display_name": "Python 3",
   "language": "python",
   "name": "python3"
  },
  "language_info": {
   "codemirror_mode": {
    "name": "ipython",
    "version": 3
   },
   "file_extension": ".py",
   "mimetype": "text/x-python",
   "name": "python",
   "nbconvert_exporter": "python",
   "pygments_lexer": "ipython3",
   "version": "3.12.1"
  }
 },
 "nbformat": 4,
 "nbformat_minor": 2
}
